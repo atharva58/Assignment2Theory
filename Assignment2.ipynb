{
  "nbformat": 4,
  "nbformat_minor": 0,
  "metadata": {
    "colab": {
      "name": "Assignment2",
      "provenance": [],
      "collapsed_sections": []
    },
    "kernelspec": {
      "name": "python3",
      "display_name": "Python 3"
    }
  },
  "cells": [
    {
      "cell_type": "code",
      "metadata": {
        "id": "j0k0Fgf17s4C",
        "colab_type": "code",
        "outputId": "d695ebf5-c571-401c-ce9b-7ab8f9b57745",
        "colab": {
          "base_uri": "https://localhost:8080/",
          "height": 1000
        }
      },
      "source": [
        "# file handling\n",
        "o=input(\"Enter a file name in .txt: \\n\")\n",
        "#o='Brook.txt'\n",
        "f_hand=open(o)\n",
        "\n",
        "def capital(a): #to print the file in capital letter and strip down the extra spaces\n",
        "  for i in f_hand:\n",
        "    i=i.strip()\n",
        "    z=i.upper()\n",
        "    print(z)\n",
        "\n",
        "def lst(p): # splitting the .txt file in list of strings or chars\n",
        "  #print(p)\n",
        "  f_hand.seek(0) #to reset the pointer of the file as it reaches in the end\n",
        "  #bart=list()\n",
        "  x = []\n",
        "  #return(f_hand.read().strip().split()) #this is correct\n",
        "  #print(f_hand)\n",
        "  for i in f_hand:\n",
        "    i=i.strip()\n",
        "    i=i.strip('\\n')\n",
        "    i=i.split()\n",
        "    x += i\n",
        "  return(x)\n",
        "    \n",
        "#print(lst(x))\n",
        "\n",
        "def count_char(c): #to count number of items in the list\n",
        "  count =0\n",
        "  temp=list()\n",
        "  temp=lst(o)\n",
        "  for i in temp:\n",
        "    count+=1\n",
        "  return(count)\n",
        "\n",
        "print(\"\\n\\nOutput of First function \\'capital()\\' is below \\n\")\n",
        "capital(0)\n",
        "print(\"Conversion of poem to number of items of lis is below:\\n\")\n",
        "print(lst(o))\n",
        "print(\"\\n\")\n",
        "print(\"Total Number of items in list after conversion are: \",count_char(0),\" items\") #function 3 called\n",
        "\n",
        "\n",
        "\n",
        "\n",
        "\n",
        "\n",
        "\n"
      ],
      "execution_count": 121,
      "outputs": [
        {
          "output_type": "stream",
          "text": [
            "Enter a file name in .txt: \n",
            "Brook.txt\n",
            "\n",
            "\n",
            "Output of First function 'capital()' is below \n",
            "\n",
            "COME FROM HAUNTS OF COOT AND HERN\n",
            "I MAKE A SUDDEN SALLY\n",
            "AND SPARKLE OUT AMONG THE FERN\n",
            "TO BICKER DOWN A VALLEY\n",
            "\n",
            "BY THIRTY HILLS I HURRY DOWN\n",
            "OR SLIP BETWEEN THE RIDGES\n",
            "BY TWENTY THORPES, A LITTLE TOWN\n",
            "AND HALF A HUNDRED BRIDGES\n",
            "\n",
            "TILL LAST BY PHILIP'S FARM I FLOW\n",
            "TO JOIN THE BRIMMING RIVER\n",
            "FOR MEN MAY COME AND MEN MAY GO\n",
            "BUT I GO ON FOR EVER\n",
            "\n",
            "I CHATTER OVER STONY WAYS\n",
            "IN LITTLE SHARPS AND TREBLES\n",
            "I BUBBLE INTO EDDYING BAYS\n",
            "I BABBLE ON THE PEBBLES\n",
            "\n",
            "WITH MANY A CURVE MY BANKS I FRET\n",
            "BY MANY A FIELD AND FALLOW\n",
            "AND MANY A FAIRY FORELAND SET\n",
            "WITH WILLOW-WEED AND MALLOW\n",
            "\n",
            "I CHATTER, CHATTER, AS I FLOW\n",
            "TO JOIN THE BRIMMING RIVER\n",
            "FOR MEN MAY COME AND MEN MAY GO\n",
            "BUT I GO ON FOR EVER\n",
            "\n",
            "I WIND ABOUT, AND IN AND OUT\n",
            "WITH HERE A BLOSSOM SAILING\n",
            "AND HERE AND THERE A LUSTY TROUT\n",
            "AND HERE AND THERE A GRAYLING\n",
            "\n",
            "AND HERE AND THERE A FOAMY FLAKE\n",
            "UPON ME, AS I TRAVEL\n",
            "WITH MANY A SILVERY WATERBREAK\n",
            "ABOVE THE GOLDEN GRAVEL\n",
            "\n",
            "AND DRAW THEM ALL ALONG, AND FLOW\n",
            "TO JOIN THE BRIMMING RIVER\n",
            "FOR MEN MAY COME AND MEN MAY GO\n",
            "BUT I GO ON FOR EVER\n",
            "\n",
            "Conversion of poem to number of items of lis is below:\n",
            "\n",
            "['come', 'from', 'haunts', 'of', 'coot', 'and', 'hern', 'I', 'make', 'a', 'sudden', 'sally', 'And', 'sparkle', 'out', 'among', 'the', 'fern', 'To', 'bicker', 'down', 'a', 'valley', 'By', 'thirty', 'hills', 'I', 'hurry', 'down', 'Or', 'slip', 'between', 'the', 'ridges', 'By', 'twenty', 'thorpes,', 'a', 'little', 'town', 'And', 'half', 'a', 'hundred', 'bridges', 'Till', 'last', 'by', \"Philip's\", 'farm', 'I', 'flow', 'To', 'join', 'the', 'brimming', 'river', 'For', 'men', 'may', 'come', 'and', 'men', 'may', 'go', 'But', 'I', 'go', 'on', 'for', 'ever', 'I', 'chatter', 'over', 'stony', 'ways', 'In', 'little', 'sharps', 'and', 'trebles', 'I', 'bubble', 'into', 'eddying', 'bays', 'I', 'babble', 'on', 'the', 'pebbles', 'With', 'many', 'a', 'curve', 'my', 'banks', 'I', 'fret', 'By', 'many', 'a', 'field', 'and', 'fallow', 'And', 'many', 'a', 'fairy', 'foreland', 'set', 'With', 'willow-weed', 'and', 'mallow', 'I', 'chatter,', 'chatter,', 'as', 'I', 'flow', 'To', 'join', 'the', 'brimming', 'river', 'For', 'men', 'may', 'come', 'and', 'men', 'may', 'go', 'But', 'I', 'go', 'on', 'for', 'ever', 'I', 'wind', 'about,', 'and', 'in', 'and', 'out', 'With', 'here', 'a', 'blossom', 'sailing', 'And', 'here', 'and', 'there', 'a', 'lusty', 'trout', 'And', 'here', 'and', 'there', 'a', 'grayling', 'And', 'here', 'and', 'there', 'a', 'foamy', 'flake', 'Upon', 'me,', 'as', 'I', 'travel', 'With', 'many', 'a', 'silvery', 'waterbreak', 'Above', 'the', 'golden', 'gravel', 'And', 'draw', 'them', 'all', 'along,', 'and', 'flow', 'To', 'join', 'the', 'brimming', 'river', 'For', 'men', 'may', 'come', 'and', 'men', 'may', 'go', 'But', 'I', 'go', 'on', 'for', 'ever']\n",
            "\n",
            "\n",
            "Total Number of items in list after conversion are:  212  items\n"
          ],
          "name": "stdout"
        }
      ]
    },
    {
      "cell_type": "code",
      "metadata": {
        "id": "yU_9wa1nI94b",
        "colab_type": "code",
        "colab": {
          "base_uri": "https://localhost:8080/",
          "height": 199
        },
        "outputId": "1fdb2a6f-c379-4eb2-bd7e-ad0240c94162"
      },
      "source": [
        "# lists\n",
        "# we used to have Multidimensions in c/c++, but there are no multi-dimensions in lists\n",
        "\n",
        "lst1= [1,2,3,4,5]\n",
        "lst2=[]\n",
        "for i in range (0,10):\n",
        "  lst2.append(i)\n",
        "  i+=1\n",
        "print(lst1)\n",
        "print(lst2)\n",
        "print(\"\\n\\n\")\n",
        "\n",
        "#using enumerate function in basic list, all it do is to add iteration along with item value\n",
        "for i in enumerate(lst1):\n",
        "  print(\"Iteration number is first, Value at second \",i)"
      ],
      "execution_count": 133,
      "outputs": [
        {
          "output_type": "stream",
          "text": [
            "[1, 2, 3, 4, 5]\n",
            "[0, 1, 2, 3, 4, 5, 6, 7, 8, 9]\n",
            "\n",
            "\n",
            "\n",
            "Iteration number is first, Value at second  (0, 1)\n",
            "Iteration number is first, Value at second  (1, 2)\n",
            "Iteration number is first, Value at second  (2, 3)\n",
            "Iteration number is first, Value at second  (3, 4)\n",
            "Iteration number is first, Value at second  (4, 5)\n"
          ],
          "name": "stdout"
        }
      ]
    },
    {
      "cell_type": "code",
      "metadata": {
        "id": "POh0ul9R8pIY",
        "colab_type": "code",
        "colab": {
          "base_uri": "https://localhost:8080/",
          "height": 126
        },
        "outputId": "7ffcbfbd-689a-4821-a8f0-1133bd5304ee"
      },
      "source": [
        "#using enumerator() in dictionary\n",
        "dict_name={1:\"Amar\", 2:\"Akbar\", 3:\"Anthony\",4:\"Atharva\", 5:\"Nelson Mandela\"}\n",
        "for p,q in enumerate(dict_name):\n",
        "  print(p,q, dict.values) #successful use of enumerator in dictionary\n",
        "#print(enumerate(dict_name))\n",
        "print(dict_name)"
      ],
      "execution_count": 142,
      "outputs": [
        {
          "output_type": "stream",
          "text": [
            "0 1 <method 'values' of 'dict' objects>\n",
            "1 2 <method 'values' of 'dict' objects>\n",
            "2 3 <method 'values' of 'dict' objects>\n",
            "3 4 <method 'values' of 'dict' objects>\n",
            "4 5 <method 'values' of 'dict' objects>\n",
            "{1: 'Amar', 2: 'Akbar', 3: 'Anthony', 4: 'Atharva', 5: 'Nelson Mandela'}\n"
          ],
          "name": "stdout"
        }
      ]
    },
    {
      "cell_type": "code",
      "metadata": {
        "id": "_flEbVP_A6km",
        "colab_type": "code",
        "colab": {
          "base_uri": "https://localhost:8080/",
          "height": 108
        },
        "outputId": "1b539c34-2739-420b-c4f1-7ab9dd8dbd0b"
      },
      "source": [
        "#making basic list of dictionaries\n",
        "\n",
        "di={} #initializing null dictionary\n",
        "d_list=list() #another empty list\n",
        "for i in range(0,5):\n",
        "  di['input']=i #putting values in empty list\n",
        "  d_list.append(di)\n",
        "  print(di) #dictionary in list"
      ],
      "execution_count": 157,
      "outputs": [
        {
          "output_type": "stream",
          "text": [
            "{'input': 0}\n",
            "{'input': 1}\n",
            "{'input': 2}\n",
            "{'input': 3}\n",
            "{'input': 4}\n"
          ],
          "name": "stdout"
        }
      ]
    },
    {
      "cell_type": "code",
      "metadata": {
        "id": "c8c8-SoBFaLl",
        "colab_type": "code",
        "colab": {
          "base_uri": "https://localhost:8080/",
          "height": 144
        },
        "outputId": "0aa4523d-ff84-4395-9562-2b07509c686c"
      },
      "source": [
        "#basic list operations\n",
        "l=[1,2,3,4,5,6,4,54,234,-1]\n",
        "print(max(l))\n",
        "print(l[2:])\n",
        "print(l[::-1]) #reverse order\n",
        "print(min(l))\n",
        "print(sum(l))\n",
        "print(len(l))\n",
        "print(\"Average: \",sum(l)/len(l))"
      ],
      "execution_count": 170,
      "outputs": [
        {
          "output_type": "stream",
          "text": [
            "234\n",
            "[3, 4, 5, 6, 4, 54, 234, -1]\n",
            "[-1, 234, 54, 4, 6, 5, 4, 3, 2, 1]\n",
            "-1\n",
            "312\n",
            "10\n",
            "Average:  31.2\n"
          ],
          "name": "stdout"
        }
      ]
    },
    {
      "cell_type": "code",
      "metadata": {
        "id": "fPwR_NP6H2F-",
        "colab_type": "code",
        "colab": {
          "base_uri": "https://localhost:8080/",
          "height": 35
        },
        "outputId": "9389477b-34be-484b-e9e8-213a55ff40ca"
      },
      "source": [
        "#stripping a text and extracting float value, concept of list and string conversion\n",
        "\n",
        "entered=\"ThisIsAString 0.364489464\"\n",
        "a=entered.find(\" \")\n",
        "b=entered[a::1]\n",
        "stripp = b.strip()\n",
        "#stripp= b.strip()\n",
        "final= float(stripp)\n",
        "print(final)"
      ],
      "execution_count": 181,
      "outputs": [
        {
          "output_type": "stream",
          "text": [
            "0.364489464\n"
          ],
          "name": "stdout"
        }
      ]
    }
  ]
}